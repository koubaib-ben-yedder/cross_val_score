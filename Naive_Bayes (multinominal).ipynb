{
 "cells": [
  {
   "cell_type": "code",
   "id": "initial_id",
   "metadata": {
    "collapsed": true,
    "ExecuteTime": {
     "end_time": "2024-10-04T10:04:03.360087Z",
     "start_time": "2024-10-04T10:03:48.269352Z"
    }
   },
   "source": [
    "import pandas as pd\n",
    "from sklearn.naive_bayes import MultinomialNB\n",
    "from sklearn.model_selection import train_test_split\n",
    "from sklearn.preprocessing import OrdinalEncoder"
   ],
   "outputs": [],
   "execution_count": 1
  },
  {
   "metadata": {
    "ExecuteTime": {
     "end_time": "2024-10-04T10:04:03.429602Z",
     "start_time": "2024-10-04T10:04:03.364674Z"
    }
   },
   "cell_type": "code",
   "source": "titanic = pd.read_csv('titanic.csv')",
   "id": "214f842fddfad74d",
   "outputs": [],
   "execution_count": 2
  },
  {
   "metadata": {
    "ExecuteTime": {
     "end_time": "2024-10-04T10:04:03.498036Z",
     "start_time": "2024-10-04T10:04:03.432611Z"
    }
   },
   "cell_type": "code",
   "source": "titanic",
   "id": "dfb9d8d8e4988275",
   "outputs": [
    {
     "data": {
      "text/plain": [
       "     PassengerId                                               Name  Pclass  \\\n",
       "0              1                            Braund, Mr. Owen Harris       3   \n",
       "1              2  Cumings, Mrs. John Bradley (Florence Briggs Th...       1   \n",
       "2              3                             Heikkinen, Miss. Laina       3   \n",
       "3              4       Futrelle, Mrs. Jacques Heath (Lily May Peel)       1   \n",
       "4              5                           Allen, Mr. William Henry       3   \n",
       "..           ...                                                ...     ...   \n",
       "886          887                              Montvila, Rev. Juozas       2   \n",
       "887          888                       Graham, Miss. Margaret Edith       1   \n",
       "888          889           Johnston, Miss. Catherine Helen \"Carrie\"       3   \n",
       "889          890                              Behr, Mr. Karl Howell       1   \n",
       "890          891                                Dooley, Mr. Patrick       3   \n",
       "\n",
       "        Sex   Age  SibSp  Parch            Ticket     Fare Cabin Embarked  \\\n",
       "0      male  22.0      1      0         A/5 21171   7.2500   NaN        S   \n",
       "1    female  38.0      1      0          PC 17599  71.2833   C85        C   \n",
       "2    female  26.0      0      0  STON/O2. 3101282   7.9250   NaN        S   \n",
       "3    female  35.0      1      0            113803  53.1000  C123        S   \n",
       "4      male  35.0      0      0            373450   8.0500   NaN        S   \n",
       "..      ...   ...    ...    ...               ...      ...   ...      ...   \n",
       "886    male  27.0      0      0            211536  13.0000   NaN        S   \n",
       "887  female  19.0      0      0            112053  30.0000   B42        S   \n",
       "888  female   NaN      1      2        W./C. 6607  23.4500   NaN        S   \n",
       "889    male  26.0      0      0            111369  30.0000  C148        C   \n",
       "890    male  32.0      0      0            370376   7.7500   NaN        Q   \n",
       "\n",
       "     Survived  \n",
       "0           0  \n",
       "1           1  \n",
       "2           1  \n",
       "3           1  \n",
       "4           0  \n",
       "..        ...  \n",
       "886         0  \n",
       "887         1  \n",
       "888         0  \n",
       "889         1  \n",
       "890         0  \n",
       "\n",
       "[891 rows x 12 columns]"
      ],
      "text/html": [
       "<div>\n",
       "<style scoped>\n",
       "    .dataframe tbody tr th:only-of-type {\n",
       "        vertical-align: middle;\n",
       "    }\n",
       "\n",
       "    .dataframe tbody tr th {\n",
       "        vertical-align: top;\n",
       "    }\n",
       "\n",
       "    .dataframe thead th {\n",
       "        text-align: right;\n",
       "    }\n",
       "</style>\n",
       "<table border=\"1\" class=\"dataframe\">\n",
       "  <thead>\n",
       "    <tr style=\"text-align: right;\">\n",
       "      <th></th>\n",
       "      <th>PassengerId</th>\n",
       "      <th>Name</th>\n",
       "      <th>Pclass</th>\n",
       "      <th>Sex</th>\n",
       "      <th>Age</th>\n",
       "      <th>SibSp</th>\n",
       "      <th>Parch</th>\n",
       "      <th>Ticket</th>\n",
       "      <th>Fare</th>\n",
       "      <th>Cabin</th>\n",
       "      <th>Embarked</th>\n",
       "      <th>Survived</th>\n",
       "    </tr>\n",
       "  </thead>\n",
       "  <tbody>\n",
       "    <tr>\n",
       "      <th>0</th>\n",
       "      <td>1</td>\n",
       "      <td>Braund, Mr. Owen Harris</td>\n",
       "      <td>3</td>\n",
       "      <td>male</td>\n",
       "      <td>22.0</td>\n",
       "      <td>1</td>\n",
       "      <td>0</td>\n",
       "      <td>A/5 21171</td>\n",
       "      <td>7.2500</td>\n",
       "      <td>NaN</td>\n",
       "      <td>S</td>\n",
       "      <td>0</td>\n",
       "    </tr>\n",
       "    <tr>\n",
       "      <th>1</th>\n",
       "      <td>2</td>\n",
       "      <td>Cumings, Mrs. John Bradley (Florence Briggs Th...</td>\n",
       "      <td>1</td>\n",
       "      <td>female</td>\n",
       "      <td>38.0</td>\n",
       "      <td>1</td>\n",
       "      <td>0</td>\n",
       "      <td>PC 17599</td>\n",
       "      <td>71.2833</td>\n",
       "      <td>C85</td>\n",
       "      <td>C</td>\n",
       "      <td>1</td>\n",
       "    </tr>\n",
       "    <tr>\n",
       "      <th>2</th>\n",
       "      <td>3</td>\n",
       "      <td>Heikkinen, Miss. Laina</td>\n",
       "      <td>3</td>\n",
       "      <td>female</td>\n",
       "      <td>26.0</td>\n",
       "      <td>0</td>\n",
       "      <td>0</td>\n",
       "      <td>STON/O2. 3101282</td>\n",
       "      <td>7.9250</td>\n",
       "      <td>NaN</td>\n",
       "      <td>S</td>\n",
       "      <td>1</td>\n",
       "    </tr>\n",
       "    <tr>\n",
       "      <th>3</th>\n",
       "      <td>4</td>\n",
       "      <td>Futrelle, Mrs. Jacques Heath (Lily May Peel)</td>\n",
       "      <td>1</td>\n",
       "      <td>female</td>\n",
       "      <td>35.0</td>\n",
       "      <td>1</td>\n",
       "      <td>0</td>\n",
       "      <td>113803</td>\n",
       "      <td>53.1000</td>\n",
       "      <td>C123</td>\n",
       "      <td>S</td>\n",
       "      <td>1</td>\n",
       "    </tr>\n",
       "    <tr>\n",
       "      <th>4</th>\n",
       "      <td>5</td>\n",
       "      <td>Allen, Mr. William Henry</td>\n",
       "      <td>3</td>\n",
       "      <td>male</td>\n",
       "      <td>35.0</td>\n",
       "      <td>0</td>\n",
       "      <td>0</td>\n",
       "      <td>373450</td>\n",
       "      <td>8.0500</td>\n",
       "      <td>NaN</td>\n",
       "      <td>S</td>\n",
       "      <td>0</td>\n",
       "    </tr>\n",
       "    <tr>\n",
       "      <th>...</th>\n",
       "      <td>...</td>\n",
       "      <td>...</td>\n",
       "      <td>...</td>\n",
       "      <td>...</td>\n",
       "      <td>...</td>\n",
       "      <td>...</td>\n",
       "      <td>...</td>\n",
       "      <td>...</td>\n",
       "      <td>...</td>\n",
       "      <td>...</td>\n",
       "      <td>...</td>\n",
       "      <td>...</td>\n",
       "    </tr>\n",
       "    <tr>\n",
       "      <th>886</th>\n",
       "      <td>887</td>\n",
       "      <td>Montvila, Rev. Juozas</td>\n",
       "      <td>2</td>\n",
       "      <td>male</td>\n",
       "      <td>27.0</td>\n",
       "      <td>0</td>\n",
       "      <td>0</td>\n",
       "      <td>211536</td>\n",
       "      <td>13.0000</td>\n",
       "      <td>NaN</td>\n",
       "      <td>S</td>\n",
       "      <td>0</td>\n",
       "    </tr>\n",
       "    <tr>\n",
       "      <th>887</th>\n",
       "      <td>888</td>\n",
       "      <td>Graham, Miss. Margaret Edith</td>\n",
       "      <td>1</td>\n",
       "      <td>female</td>\n",
       "      <td>19.0</td>\n",
       "      <td>0</td>\n",
       "      <td>0</td>\n",
       "      <td>112053</td>\n",
       "      <td>30.0000</td>\n",
       "      <td>B42</td>\n",
       "      <td>S</td>\n",
       "      <td>1</td>\n",
       "    </tr>\n",
       "    <tr>\n",
       "      <th>888</th>\n",
       "      <td>889</td>\n",
       "      <td>Johnston, Miss. Catherine Helen \"Carrie\"</td>\n",
       "      <td>3</td>\n",
       "      <td>female</td>\n",
       "      <td>NaN</td>\n",
       "      <td>1</td>\n",
       "      <td>2</td>\n",
       "      <td>W./C. 6607</td>\n",
       "      <td>23.4500</td>\n",
       "      <td>NaN</td>\n",
       "      <td>S</td>\n",
       "      <td>0</td>\n",
       "    </tr>\n",
       "    <tr>\n",
       "      <th>889</th>\n",
       "      <td>890</td>\n",
       "      <td>Behr, Mr. Karl Howell</td>\n",
       "      <td>1</td>\n",
       "      <td>male</td>\n",
       "      <td>26.0</td>\n",
       "      <td>0</td>\n",
       "      <td>0</td>\n",
       "      <td>111369</td>\n",
       "      <td>30.0000</td>\n",
       "      <td>C148</td>\n",
       "      <td>C</td>\n",
       "      <td>1</td>\n",
       "    </tr>\n",
       "    <tr>\n",
       "      <th>890</th>\n",
       "      <td>891</td>\n",
       "      <td>Dooley, Mr. Patrick</td>\n",
       "      <td>3</td>\n",
       "      <td>male</td>\n",
       "      <td>32.0</td>\n",
       "      <td>0</td>\n",
       "      <td>0</td>\n",
       "      <td>370376</td>\n",
       "      <td>7.7500</td>\n",
       "      <td>NaN</td>\n",
       "      <td>Q</td>\n",
       "      <td>0</td>\n",
       "    </tr>\n",
       "  </tbody>\n",
       "</table>\n",
       "<p>891 rows × 12 columns</p>\n",
       "</div>"
      ]
     },
     "execution_count": 3,
     "metadata": {},
     "output_type": "execute_result"
    }
   ],
   "execution_count": 3
  },
  {
   "metadata": {
    "ExecuteTime": {
     "end_time": "2024-10-04T10:04:03.514153Z",
     "start_time": "2024-10-04T10:04:03.502049Z"
    }
   },
   "cell_type": "code",
   "source": "titanic.columns",
   "id": "f57d4d77a45aa30c",
   "outputs": [
    {
     "data": {
      "text/plain": [
       "Index(['PassengerId', 'Name', 'Pclass', 'Sex', 'Age', 'SibSp', 'Parch',\n",
       "       'Ticket', 'Fare', 'Cabin', 'Embarked', 'Survived'],\n",
       "      dtype='object')"
      ]
     },
     "execution_count": 4,
     "metadata": {},
     "output_type": "execute_result"
    }
   ],
   "execution_count": 4
  },
  {
   "metadata": {
    "ExecuteTime": {
     "end_time": "2024-10-04T10:04:03.531242Z",
     "start_time": "2024-10-04T10:04:03.516692Z"
    }
   },
   "cell_type": "code",
   "source": [
    "titanic.drop([\"Name\",\"Embarked\",\"PassengerId\",'Ticket','Cabin','PassengerId',\"SibSp\",\"Parch\",\"Cabin\"],axis=1,inplace=True)\n",
    "titanic.head()"
   ],
   "id": "87d792577fb928b6",
   "outputs": [
    {
     "data": {
      "text/plain": [
       "   Pclass     Sex   Age     Fare  Survived\n",
       "0       3    male  22.0   7.2500         0\n",
       "1       1  female  38.0  71.2833         1\n",
       "2       3  female  26.0   7.9250         1\n",
       "3       1  female  35.0  53.1000         1\n",
       "4       3    male  35.0   8.0500         0"
      ],
      "text/html": [
       "<div>\n",
       "<style scoped>\n",
       "    .dataframe tbody tr th:only-of-type {\n",
       "        vertical-align: middle;\n",
       "    }\n",
       "\n",
       "    .dataframe tbody tr th {\n",
       "        vertical-align: top;\n",
       "    }\n",
       "\n",
       "    .dataframe thead th {\n",
       "        text-align: right;\n",
       "    }\n",
       "</style>\n",
       "<table border=\"1\" class=\"dataframe\">\n",
       "  <thead>\n",
       "    <tr style=\"text-align: right;\">\n",
       "      <th></th>\n",
       "      <th>Pclass</th>\n",
       "      <th>Sex</th>\n",
       "      <th>Age</th>\n",
       "      <th>Fare</th>\n",
       "      <th>Survived</th>\n",
       "    </tr>\n",
       "  </thead>\n",
       "  <tbody>\n",
       "    <tr>\n",
       "      <th>0</th>\n",
       "      <td>3</td>\n",
       "      <td>male</td>\n",
       "      <td>22.0</td>\n",
       "      <td>7.2500</td>\n",
       "      <td>0</td>\n",
       "    </tr>\n",
       "    <tr>\n",
       "      <th>1</th>\n",
       "      <td>1</td>\n",
       "      <td>female</td>\n",
       "      <td>38.0</td>\n",
       "      <td>71.2833</td>\n",
       "      <td>1</td>\n",
       "    </tr>\n",
       "    <tr>\n",
       "      <th>2</th>\n",
       "      <td>3</td>\n",
       "      <td>female</td>\n",
       "      <td>26.0</td>\n",
       "      <td>7.9250</td>\n",
       "      <td>1</td>\n",
       "    </tr>\n",
       "    <tr>\n",
       "      <th>3</th>\n",
       "      <td>1</td>\n",
       "      <td>female</td>\n",
       "      <td>35.0</td>\n",
       "      <td>53.1000</td>\n",
       "      <td>1</td>\n",
       "    </tr>\n",
       "    <tr>\n",
       "      <th>4</th>\n",
       "      <td>3</td>\n",
       "      <td>male</td>\n",
       "      <td>35.0</td>\n",
       "      <td>8.0500</td>\n",
       "      <td>0</td>\n",
       "    </tr>\n",
       "  </tbody>\n",
       "</table>\n",
       "</div>"
      ]
     },
     "execution_count": 5,
     "metadata": {},
     "output_type": "execute_result"
    }
   ],
   "execution_count": 5
  },
  {
   "metadata": {
    "ExecuteTime": {
     "end_time": "2024-10-04T10:04:03.540824Z",
     "start_time": "2024-10-04T10:04:03.533213Z"
    }
   },
   "cell_type": "code",
   "source": "titanic.columns",
   "id": "d08d24c3e45bb19d",
   "outputs": [
    {
     "data": {
      "text/plain": [
       "Index(['Pclass', 'Sex', 'Age', 'Fare', 'Survived'], dtype='object')"
      ]
     },
     "execution_count": 6,
     "metadata": {},
     "output_type": "execute_result"
    }
   ],
   "execution_count": 6
  },
  {
   "metadata": {
    "ExecuteTime": {
     "end_time": "2024-10-04T10:04:03.553621Z",
     "start_time": "2024-10-04T10:04:03.542848Z"
    }
   },
   "cell_type": "code",
   "source": [
    "oe=OrdinalEncoder()\n",
    "titanic['Sex_encoded'] =pd.DataFrame(oe.fit_transform(titanic[[ 'Sex']]),columns=['Sex'])\n",
    "titanic.drop(\"Sex\",axis=1,inplace=True)\n",
    "titanic.rename(columns={'Sex_encoded': 'Sex'}, inplace=True)"
   ],
   "id": "751e93c0c2f44f2d",
   "outputs": [],
   "execution_count": 7
  },
  {
   "metadata": {
    "ExecuteTime": {
     "end_time": "2024-10-04T10:04:03.562353Z",
     "start_time": "2024-10-04T10:04:03.555671Z"
    }
   },
   "cell_type": "code",
   "source": [
    "x=titanic.iloc[:,:-2]\n",
    "y=titanic.iloc[:,-1]"
   ],
   "id": "a63267a3a2b185c5",
   "outputs": [],
   "execution_count": 8
  },
  {
   "metadata": {
    "ExecuteTime": {
     "end_time": "2024-10-04T10:04:03.572323Z",
     "start_time": "2024-10-04T10:04:03.563364Z"
    }
   },
   "cell_type": "code",
   "source": "x.isnull().sum()",
   "id": "5c9c418a23b3f6f7",
   "outputs": [
    {
     "data": {
      "text/plain": [
       "Pclass      0\n",
       "Age       177\n",
       "Fare        0\n",
       "dtype: int64"
      ]
     },
     "execution_count": 9,
     "metadata": {},
     "output_type": "execute_result"
    }
   ],
   "execution_count": 9
  },
  {
   "metadata": {
    "ExecuteTime": {
     "end_time": "2024-10-04T10:04:03.581023Z",
     "start_time": "2024-10-04T10:04:03.574858Z"
    }
   },
   "cell_type": "code",
   "source": "x.fillna(x[\"Age\"].mean(),inplace=True)",
   "id": "ae85e61277c60f9b",
   "outputs": [],
   "execution_count": 10
  },
  {
   "metadata": {
    "ExecuteTime": {
     "end_time": "2024-10-04T10:04:03.590641Z",
     "start_time": "2024-10-04T10:04:03.583050Z"
    }
   },
   "cell_type": "code",
   "source": "x_train, x_test, y_train, y_test = train_test_split(x, y, test_size=0.2, random_state=42)",
   "id": "10367021bfa9c22a",
   "outputs": [],
   "execution_count": 11
  },
  {
   "metadata": {
    "ExecuteTime": {
     "end_time": "2024-10-04T10:04:04.195439Z",
     "start_time": "2024-10-04T10:04:03.592661Z"
    }
   },
   "cell_type": "code",
   "source": [
    "mnb=MultinomialNB()\n",
    "mnb.fit(x_train,y_train)"
   ],
   "id": "7db2ade0ad8f82a3",
   "outputs": [
    {
     "data": {
      "text/plain": [
       "MultinomialNB()"
      ],
      "text/html": [
       "<style>#sk-container-id-1 {color: black;}#sk-container-id-1 pre{padding: 0;}#sk-container-id-1 div.sk-toggleable {background-color: white;}#sk-container-id-1 label.sk-toggleable__label {cursor: pointer;display: block;width: 100%;margin-bottom: 0;padding: 0.3em;box-sizing: border-box;text-align: center;}#sk-container-id-1 label.sk-toggleable__label-arrow:before {content: \"▸\";float: left;margin-right: 0.25em;color: #696969;}#sk-container-id-1 label.sk-toggleable__label-arrow:hover:before {color: black;}#sk-container-id-1 div.sk-estimator:hover label.sk-toggleable__label-arrow:before {color: black;}#sk-container-id-1 div.sk-toggleable__content {max-height: 0;max-width: 0;overflow: hidden;text-align: left;background-color: #f0f8ff;}#sk-container-id-1 div.sk-toggleable__content pre {margin: 0.2em;color: black;border-radius: 0.25em;background-color: #f0f8ff;}#sk-container-id-1 input.sk-toggleable__control:checked~div.sk-toggleable__content {max-height: 200px;max-width: 100%;overflow: auto;}#sk-container-id-1 input.sk-toggleable__control:checked~label.sk-toggleable__label-arrow:before {content: \"▾\";}#sk-container-id-1 div.sk-estimator input.sk-toggleable__control:checked~label.sk-toggleable__label {background-color: #d4ebff;}#sk-container-id-1 div.sk-label input.sk-toggleable__control:checked~label.sk-toggleable__label {background-color: #d4ebff;}#sk-container-id-1 input.sk-hidden--visually {border: 0;clip: rect(1px 1px 1px 1px);clip: rect(1px, 1px, 1px, 1px);height: 1px;margin: -1px;overflow: hidden;padding: 0;position: absolute;width: 1px;}#sk-container-id-1 div.sk-estimator {font-family: monospace;background-color: #f0f8ff;border: 1px dotted black;border-radius: 0.25em;box-sizing: border-box;margin-bottom: 0.5em;}#sk-container-id-1 div.sk-estimator:hover {background-color: #d4ebff;}#sk-container-id-1 div.sk-parallel-item::after {content: \"\";width: 100%;border-bottom: 1px solid gray;flex-grow: 1;}#sk-container-id-1 div.sk-label:hover label.sk-toggleable__label {background-color: #d4ebff;}#sk-container-id-1 div.sk-serial::before {content: \"\";position: absolute;border-left: 1px solid gray;box-sizing: border-box;top: 0;bottom: 0;left: 50%;z-index: 0;}#sk-container-id-1 div.sk-serial {display: flex;flex-direction: column;align-items: center;background-color: white;padding-right: 0.2em;padding-left: 0.2em;position: relative;}#sk-container-id-1 div.sk-item {position: relative;z-index: 1;}#sk-container-id-1 div.sk-parallel {display: flex;align-items: stretch;justify-content: center;background-color: white;position: relative;}#sk-container-id-1 div.sk-item::before, #sk-container-id-1 div.sk-parallel-item::before {content: \"\";position: absolute;border-left: 1px solid gray;box-sizing: border-box;top: 0;bottom: 0;left: 50%;z-index: -1;}#sk-container-id-1 div.sk-parallel-item {display: flex;flex-direction: column;z-index: 1;position: relative;background-color: white;}#sk-container-id-1 div.sk-parallel-item:first-child::after {align-self: flex-end;width: 50%;}#sk-container-id-1 div.sk-parallel-item:last-child::after {align-self: flex-start;width: 50%;}#sk-container-id-1 div.sk-parallel-item:only-child::after {width: 0;}#sk-container-id-1 div.sk-dashed-wrapped {border: 1px dashed gray;margin: 0 0.4em 0.5em 0.4em;box-sizing: border-box;padding-bottom: 0.4em;background-color: white;}#sk-container-id-1 div.sk-label label {font-family: monospace;font-weight: bold;display: inline-block;line-height: 1.2em;}#sk-container-id-1 div.sk-label-container {text-align: center;}#sk-container-id-1 div.sk-container {/* jupyter's `normalize.less` sets `[hidden] { display: none; }` but bootstrap.min.css set `[hidden] { display: none !important; }` so we also need the `!important` here to be able to override the default hidden behavior on the sphinx rendered scikit-learn.org. See: https://github.com/scikit-learn/scikit-learn/issues/21755 */display: inline-block !important;position: relative;}#sk-container-id-1 div.sk-text-repr-fallback {display: none;}</style><div id=\"sk-container-id-1\" class=\"sk-top-container\"><div class=\"sk-text-repr-fallback\"><pre>MultinomialNB()</pre><b>In a Jupyter environment, please rerun this cell to show the HTML representation or trust the notebook. <br />On GitHub, the HTML representation is unable to render, please try loading this page with nbviewer.org.</b></div><div class=\"sk-container\" hidden><div class=\"sk-item\"><div class=\"sk-estimator sk-toggleable\"><input class=\"sk-toggleable__control sk-hidden--visually\" id=\"sk-estimator-id-1\" type=\"checkbox\" checked><label for=\"sk-estimator-id-1\" class=\"sk-toggleable__label sk-toggleable__label-arrow\">MultinomialNB</label><div class=\"sk-toggleable__content\"><pre>MultinomialNB()</pre></div></div></div></div></div>"
      ]
     },
     "execution_count": 12,
     "metadata": {},
     "output_type": "execute_result"
    }
   ],
   "execution_count": 12
  },
  {
   "metadata": {
    "ExecuteTime": {
     "end_time": "2024-10-04T10:04:04.224079Z",
     "start_time": "2024-10-04T10:04:04.200404Z"
    }
   },
   "cell_type": "code",
   "source": "mnb.predict(x_test)",
   "id": "2a8b0d781423eadb",
   "outputs": [
    {
     "data": {
      "text/plain": [
       "array([1., 1., 1., 0., 1., 0., 1., 1., 1., 0., 0., 1., 1., 1., 1., 0., 0.,\n",
       "       1., 1., 1., 1., 1., 1., 1., 1., 0., 1., 1., 0., 1., 1., 1., 1., 1.,\n",
       "       1., 1., 0., 1., 1., 1., 0., 1., 1., 1., 1., 0., 1., 1., 1., 0., 0.,\n",
       "       0., 1., 0., 1., 0., 1., 0., 1., 1., 1., 0., 1., 1., 1., 1., 0., 1.,\n",
       "       1., 0., 1., 0., 1., 0., 1., 1., 1., 0., 1., 1., 0., 1., 0., 1., 1.,\n",
       "       1., 0., 0., 1., 1., 0., 0., 1., 1., 1., 1., 1., 1., 1., 1., 1., 1.,\n",
       "       0., 1., 1., 1., 1., 1., 1., 1., 0., 1., 0., 1., 0., 1., 1., 1., 0.,\n",
       "       1., 1., 0., 0., 0., 1., 1., 1., 0., 1., 1., 1., 1., 1., 0., 0., 1.,\n",
       "       0., 1., 1., 1., 1., 1., 1., 1., 1., 1., 1., 1., 0., 1., 1., 1., 1.,\n",
       "       1., 1., 1., 0., 1., 1., 1., 1., 1., 1., 0., 1., 1., 1., 0., 1., 1.,\n",
       "       0., 1., 1., 1., 1., 1., 1., 1., 0.])"
      ]
     },
     "execution_count": 13,
     "metadata": {},
     "output_type": "execute_result"
    }
   ],
   "execution_count": 13
  },
  {
   "metadata": {},
   "cell_type": "markdown",
   "source": "",
   "id": "be01cf9536beaa71"
  },
  {
   "metadata": {
    "ExecuteTime": {
     "end_time": "2024-10-04T10:04:04.246671Z",
     "start_time": "2024-10-04T10:04:04.227648Z"
    }
   },
   "cell_type": "code",
   "source": "mnb.predict_proba(x_test)",
   "id": "6ee8ee22efbe5a80",
   "outputs": [
    {
     "data": {
      "text/plain": [
       "array([[1.22777188e-03, 9.98772228e-01],\n",
       "       [2.77046618e-04, 9.99722953e-01],\n",
       "       [3.16279837e-03, 9.96837202e-01],\n",
       "       [9.98575234e-01, 1.42476598e-03],\n",
       "       [5.55094460e-02, 9.44490554e-01],\n",
       "       [9.99999233e-01, 7.67042721e-07],\n",
       "       [1.32360622e-04, 9.99867639e-01],\n",
       "       [1.87071002e-01, 8.12928998e-01],\n",
       "       [1.08089907e-02, 9.89191009e-01],\n",
       "       [6.69877616e-01, 3.30122384e-01],\n",
       "       [9.46918805e-01, 5.30811947e-02],\n",
       "       [1.44433246e-06, 9.99998556e-01],\n",
       "       [2.50228759e-02, 9.74977124e-01],\n",
       "       [1.02775075e-04, 9.99897225e-01],\n",
       "       [1.16372021e-04, 9.99883628e-01],\n",
       "       [9.96218139e-01, 3.78186124e-03],\n",
       "       [7.51814175e-01, 2.48185825e-01],\n",
       "       [1.35513791e-04, 9.99864486e-01],\n",
       "       [2.10960730e-03, 9.97890393e-01],\n",
       "       [3.39109496e-01, 6.60890504e-01],\n",
       "       [8.66258477e-04, 9.99133742e-01],\n",
       "       [1.71997375e-02, 9.82800262e-01],\n",
       "       [4.26934216e-03, 9.95730658e-01],\n",
       "       [4.64810541e-03, 9.95351895e-01],\n",
       "       [9.83848667e-04, 9.99016151e-01],\n",
       "       [9.67926181e-01, 3.20738185e-02],\n",
       "       [3.57430692e-03, 9.96425693e-01],\n",
       "       [5.82388239e-04, 9.99417612e-01],\n",
       "       [9.95227444e-01, 4.77255566e-03],\n",
       "       [8.97884640e-05, 9.99910212e-01],\n",
       "       [4.32224274e-03, 9.95677757e-01],\n",
       "       [1.57884314e-03, 9.98421157e-01],\n",
       "       [1.93508512e-01, 8.06491488e-01],\n",
       "       [1.24720754e-04, 9.99875279e-01],\n",
       "       [6.23301318e-03, 9.93766987e-01],\n",
       "       [2.31248655e-03, 9.97687513e-01],\n",
       "       [6.33746159e-01, 3.66253841e-01],\n",
       "       [1.32360622e-04, 9.99867639e-01],\n",
       "       [1.92497145e-01, 8.07502855e-01],\n",
       "       [1.38223380e-04, 9.99861777e-01],\n",
       "       [9.99998944e-01, 1.05639100e-06],\n",
       "       [1.34477482e-04, 9.99865523e-01],\n",
       "       [1.44706662e-04, 9.99855293e-01],\n",
       "       [1.32360622e-04, 9.99867639e-01],\n",
       "       [7.02493503e-06, 9.99992975e-01],\n",
       "       [9.67678828e-01, 3.23211722e-02],\n",
       "       [4.67143189e-03, 9.95328568e-01],\n",
       "       [1.77332610e-03, 9.98226674e-01],\n",
       "       [6.73789164e-04, 9.99326211e-01],\n",
       "       [9.99999174e-01, 8.26406088e-07],\n",
       "       [9.20468201e-01, 7.95317992e-02],\n",
       "       [9.99957245e-01, 4.27546623e-05],\n",
       "       [1.91188424e-03, 9.98088116e-01],\n",
       "       [1.00000000e+00, 2.97137459e-14],\n",
       "       [1.52318799e-09, 9.99999998e-01],\n",
       "       [9.99999954e-01, 4.59430616e-08],\n",
       "       [2.00757924e-04, 9.99799242e-01],\n",
       "       [1.00000000e+00, 2.91391873e-25],\n",
       "       [1.72980135e-03, 9.98270199e-01],\n",
       "       [4.30105557e-03, 9.95698944e-01],\n",
       "       [2.19387860e-03, 9.97806121e-01],\n",
       "       [5.70428174e-01, 4.29571826e-01],\n",
       "       [6.80924324e-02, 9.31907568e-01],\n",
       "       [5.49017318e-02, 9.45098268e-01],\n",
       "       [1.32360622e-04, 9.99867639e-01],\n",
       "       [6.38156918e-08, 9.99999936e-01],\n",
       "       [9.99998944e-01, 1.05639100e-06],\n",
       "       [1.72066779e-04, 9.99827933e-01],\n",
       "       [6.73615695e-03, 9.93263843e-01],\n",
       "       [9.96053952e-01, 3.94604791e-03],\n",
       "       [1.22169616e-01, 8.77830384e-01],\n",
       "       [1.00000000e+00, 1.17306691e-31],\n",
       "       [3.91140908e-01, 6.08859092e-01],\n",
       "       [9.99985959e-01, 1.40414518e-05],\n",
       "       [1.18046450e-03, 9.98819536e-01],\n",
       "       [1.76715497e-04, 9.99823285e-01],\n",
       "       [1.02262825e-04, 9.99897737e-01],\n",
       "       [9.98699278e-01, 1.30072151e-03],\n",
       "       [6.11006730e-05, 9.99938899e-01],\n",
       "       [1.41166434e-04, 9.99858834e-01],\n",
       "       [9.93163360e-01, 6.83663956e-03],\n",
       "       [5.27558474e-04, 9.99472442e-01],\n",
       "       [1.00000000e+00, 4.55246901e-12],\n",
       "       [1.31869710e-04, 9.99868130e-01],\n",
       "       [5.01458950e-05, 9.99949854e-01],\n",
       "       [1.07150622e-04, 9.99892849e-01],\n",
       "       [1.00000000e+00, 1.37890673e-10],\n",
       "       [9.98120669e-01, 1.87933089e-03],\n",
       "       [1.80030965e-06, 9.99998200e-01],\n",
       "       [1.14079671e-04, 9.99885920e-01],\n",
       "       [8.22980105e-01, 1.77019895e-01],\n",
       "       [9.91273923e-01, 8.72607747e-03],\n",
       "       [1.62367350e-05, 9.99983763e-01],\n",
       "       [1.31544751e-04, 9.99868455e-01],\n",
       "       [1.38223380e-04, 9.99861777e-01],\n",
       "       [2.35991805e-04, 9.99764008e-01],\n",
       "       [2.71025193e-01, 7.28974807e-01],\n",
       "       [1.04653571e-06, 9.99998953e-01],\n",
       "       [1.16372021e-04, 9.99883628e-01],\n",
       "       [3.29716566e-04, 9.99670283e-01],\n",
       "       [9.43285058e-07, 9.99999057e-01],\n",
       "       [1.99271694e-05, 9.99980073e-01],\n",
       "       [9.99999998e-01, 2.12045786e-09],\n",
       "       [7.41356994e-06, 9.99992586e-01],\n",
       "       [1.11801783e-04, 9.99888198e-01],\n",
       "       [6.05689604e-04, 9.99394310e-01],\n",
       "       [6.80283144e-02, 9.31971686e-01],\n",
       "       [9.18593973e-03, 9.90814060e-01],\n",
       "       [2.02109044e-04, 9.99797891e-01],\n",
       "       [9.41969757e-03, 9.90580302e-01],\n",
       "       [9.92655459e-01, 7.34454056e-03],\n",
       "       [2.20484499e-03, 9.97795155e-01],\n",
       "       [9.99999880e-01, 1.19780027e-07],\n",
       "       [8.42677799e-03, 9.91573222e-01],\n",
       "       [1.00000000e+00, 8.86729825e-25],\n",
       "       [5.58499516e-03, 9.94415005e-01],\n",
       "       [1.29614551e-06, 9.99998704e-01],\n",
       "       [1.12127155e-04, 9.99887873e-01],\n",
       "       [5.51940557e-01, 4.48059443e-01],\n",
       "       [9.96748490e-04, 9.99003252e-01],\n",
       "       [4.88617789e-03, 9.95113822e-01],\n",
       "       [9.99988660e-01, 1.13400420e-05],\n",
       "       [8.69394282e-01, 1.30605718e-01],\n",
       "       [9.99114692e-01, 8.85307635e-04],\n",
       "       [5.18205155e-04, 9.99481795e-01],\n",
       "       [1.25219143e-02, 9.87478086e-01],\n",
       "       [1.15918024e-04, 9.99884082e-01],\n",
       "       [9.99999637e-01, 3.62912729e-07],\n",
       "       [9.71738453e-04, 9.99028262e-01],\n",
       "       [2.38033780e-03, 9.97619662e-01],\n",
       "       [1.37542990e-04, 9.99862457e-01],\n",
       "       [1.22777188e-03, 9.98772228e-01],\n",
       "       [1.85758092e-05, 9.99981424e-01],\n",
       "       [6.06358660e-01, 3.93641340e-01],\n",
       "       [5.38393095e-01, 4.61606905e-01],\n",
       "       [9.96455150e-02, 9.00354485e-01],\n",
       "       [1.00000000e+00, 1.84643148e-10],\n",
       "       [1.67027323e-04, 9.99832973e-01],\n",
       "       [2.37101815e-06, 9.99997629e-01],\n",
       "       [1.02206883e-01, 8.97793117e-01],\n",
       "       [2.66688547e-03, 9.97333115e-01],\n",
       "       [4.21628670e-04, 9.99578371e-01],\n",
       "       [1.52946920e-03, 9.98470531e-01],\n",
       "       [4.00647895e-03, 9.95993521e-01],\n",
       "       [3.79074748e-03, 9.96209253e-01],\n",
       "       [6.80603664e-02, 9.31939634e-01],\n",
       "       [8.03581189e-04, 9.99196419e-01],\n",
       "       [3.51324025e-09, 9.99999996e-01],\n",
       "       [1.00000000e+00, 4.62303741e-15],\n",
       "       [1.99333471e-06, 9.99998007e-01],\n",
       "       [1.76203623e-04, 9.99823796e-01],\n",
       "       [7.69206412e-04, 9.99230794e-01],\n",
       "       [5.78194020e-03, 9.94218060e-01],\n",
       "       [1.70554626e-02, 9.82944537e-01],\n",
       "       [1.44706662e-04, 9.99855293e-01],\n",
       "       [1.07494867e-04, 9.99892505e-01],\n",
       "       [9.96175191e-01, 3.82480899e-03],\n",
       "       [1.33844350e-04, 9.99866156e-01],\n",
       "       [5.52096861e-03, 9.94479031e-01],\n",
       "       [6.31356189e-04, 9.99368644e-01],\n",
       "       [8.34734723e-04, 9.99165265e-01],\n",
       "       [6.53796248e-02, 9.34620375e-01],\n",
       "       [4.42731076e-05, 9.99955727e-01],\n",
       "       [9.99999059e-01, 9.41030294e-07],\n",
       "       [1.63379993e-04, 9.99836620e-01],\n",
       "       [2.93309617e-02, 9.70669038e-01],\n",
       "       [3.63411279e-03, 9.96365887e-01],\n",
       "       [9.92351344e-01, 7.64865624e-03],\n",
       "       [1.64867048e-03, 9.98351330e-01],\n",
       "       [1.94877649e-05, 9.99980512e-01],\n",
       "       [9.99970805e-01, 2.91950071e-05],\n",
       "       [3.69805607e-02, 9.63019439e-01],\n",
       "       [8.67886284e-03, 9.91321137e-01],\n",
       "       [4.91787984e-01, 5.08212016e-01],\n",
       "       [6.53201928e-03, 9.93467981e-01],\n",
       "       [1.13235004e-04, 9.99886765e-01],\n",
       "       [1.01851789e-02, 9.89814821e-01],\n",
       "       [2.45838151e-02, 9.75416185e-01],\n",
       "       [8.81874074e-01, 1.18125926e-01]])"
      ]
     },
     "execution_count": 14,
     "metadata": {},
     "output_type": "execute_result"
    }
   ],
   "execution_count": 14
  },
  {
   "metadata": {
    "ExecuteTime": {
     "end_time": "2024-10-04T10:04:04.264183Z",
     "start_time": "2024-10-04T10:04:04.249684Z"
    }
   },
   "cell_type": "code",
   "source": "mnb.score(x_test,y_test)",
   "id": "dd3fbbccd4ecad94",
   "outputs": [
    {
     "data": {
      "text/plain": [
       "0.6759776536312849"
      ]
     },
     "execution_count": 15,
     "metadata": {},
     "output_type": "execute_result"
    }
   ],
   "execution_count": 15
  },
  {
   "metadata": {
    "ExecuteTime": {
     "end_time": "2024-10-04T10:04:04.270137Z",
     "start_time": "2024-10-04T10:04:04.266715Z"
    }
   },
   "cell_type": "code",
   "source": " ",
   "id": "38c4769d1b01b4d7",
   "outputs": [],
   "execution_count": 15
  }
 ],
 "metadata": {
  "kernelspec": {
   "display_name": "Python 3",
   "language": "python",
   "name": "python3"
  },
  "language_info": {
   "codemirror_mode": {
    "name": "ipython",
    "version": 2
   },
   "file_extension": ".py",
   "mimetype": "text/x-python",
   "name": "python",
   "nbconvert_exporter": "python",
   "pygments_lexer": "ipython2",
   "version": "2.7.6"
  }
 },
 "nbformat": 4,
 "nbformat_minor": 5
}
