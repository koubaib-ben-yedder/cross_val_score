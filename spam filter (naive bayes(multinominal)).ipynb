{
 "cells": [
  {
   "cell_type": "code",
   "execution_count": 76,
   "id": "initial_id",
   "metadata": {
    "ExecuteTime": {
     "end_time": "2024-09-28T16:57:47.601691Z",
     "start_time": "2024-09-28T16:57:47.598007Z"
    },
    "collapsed": true
   },
   "outputs": [],
   "source": [
    "from sklearn.naive_bayes import MultinomialNB,BernoulliNB\n",
    "from sklearn.model_selection import train_test_split\n",
    "from sklearn.metrics import classification_report\n",
    "import pandas as pd\n",
    "from sklearn.feature_extraction.text import TfidfVectorizer, CountVectorizer"
   ]
  },
  {
   "cell_type": "code",
   "execution_count": 77,
   "id": "3decfca5d0ed90d5",
   "metadata": {
    "ExecuteTime": {
     "end_time": "2024-09-28T16:50:47.305575Z",
     "start_time": "2024-09-28T16:50:47.293644Z"
    }
   },
   "outputs": [],
   "source": [
    "spam=pd.read_csv('spam.csv')"
   ]
  },
  {
   "cell_type": "code",
   "execution_count": 78,
   "id": "2d9d4248b26b2a7d",
   "metadata": {
    "ExecuteTime": {
     "end_time": "2024-09-28T16:50:47.317209Z",
     "start_time": "2024-09-28T16:50:47.312586Z"
    }
   },
   "outputs": [],
   "source": [
    "spam[\"Category\"]=spam[\"Category\"].map({'ham':0,'spam':1})"
   ]
  },
  {
   "cell_type": "code",
   "execution_count": 79,
   "id": "9b5d9c98616bdb0b",
   "metadata": {
    "ExecuteTime": {
     "end_time": "2024-09-28T16:50:47.346438Z",
     "start_time": "2024-09-28T16:50:47.342218Z"
    }
   },
   "outputs": [],
   "source": [
    "x=spam[\"Message\"]\n",
    "y=spam[\"Category\"]"
   ]
  },
  {
   "cell_type": "code",
   "execution_count": 80,
   "id": "abbcca4d7db4a422",
   "metadata": {
    "ExecuteTime": {
     "end_time": "2024-09-28T16:50:47.360285Z",
     "start_time": "2024-09-28T16:50:47.354444Z"
    }
   },
   "outputs": [],
   "source": [
    "x_train,x_test,y_train,y_test=train_test_split(x,y,random_state=42,test_size=0.2)"
   ]
  },
  {
   "cell_type": "code",
   "execution_count": 81,
   "id": "2a96e404a97dd4ab",
   "metadata": {
    "ExecuteTime": {
     "end_time": "2024-09-28T16:50:47.464676Z",
     "start_time": "2024-09-28T16:50:47.362296Z"
    }
   },
   "outputs": [
    {
     "data": {
      "text/plain": [
       "array([[0, 0, 0, ..., 0, 0, 0],\n",
       "       [0, 0, 0, ..., 0, 0, 0],\n",
       "       [0, 0, 0, ..., 0, 0, 0],\n",
       "       [0, 0, 0, ..., 0, 0, 0]], dtype=int64)"
      ]
     },
     "execution_count": 81,
     "metadata": {},
     "output_type": "execute_result"
    }
   ],
   "source": [
    "cv = CountVectorizer()\n",
    "x_train_count_vectorizer = cv.fit_transform(x_train.values)\n",
    "x_train_count_vectorizer.toarray()[:4]"
   ]
  },
  {
   "cell_type": "code",
   "execution_count": 82,
   "id": "b2c12384f666c48e",
   "metadata": {
    "ExecuteTime": {
     "end_time": "2024-09-28T16:50:47.562821Z",
     "start_time": "2024-09-28T16:50:47.465685Z"
    }
   },
   "outputs": [
    {
     "data": {
      "text/plain": [
       "array([[0, 0, 0, ..., 0, 0, 0],\n",
       "       [0, 0, 0, ..., 0, 0, 0],\n",
       "       [0, 0, 0, ..., 0, 0, 0],\n",
       "       [0, 0, 0, ..., 0, 0, 0]], dtype=int64)"
      ]
     },
     "execution_count": 82,
     "metadata": {},
     "output_type": "execute_result"
    }
   ],
   "source": [
    "x_test_count_vectorizer = cv.transform(x_test.values)\n",
    "x_test_count_vectorizer.toarray()[:4]"
   ]
  },
  {
   "cell_type": "markdown",
   "id": "66d3286dbfc9c101",
   "metadata": {},
   "source": [
    "<h6> 1) MultinomialNB </h6>"
   ]
  },
  {
   "cell_type": "code",
   "execution_count": 83,
   "id": "4edb28e5ee355f2e",
   "metadata": {
    "ExecuteTime": {
     "end_time": "2024-09-28T16:50:47.571566Z",
     "start_time": "2024-09-28T16:50:47.563826Z"
    }
   },
   "outputs": [
    {
     "data": {
      "text/plain": [
       "array([0, 0, 0, ..., 0, 0, 0], dtype=int64)"
      ]
     },
     "execution_count": 83,
     "metadata": {},
     "output_type": "execute_result"
    }
   ],
   "source": [
    "mnb=MultinomialNB()\n",
    "mnb.fit(x_train_count_vectorizer,y_train)\n",
    "y_pred=mnb.predict(x_test_count_vectorizer)\n",
    "y_pred"
   ]
  },
  {
   "cell_type": "code",
   "execution_count": 85,
   "id": "c6a6b2a3f2a9f478",
   "metadata": {
    "ExecuteTime": {
     "end_time": "2024-09-28T16:58:00.061302Z",
     "start_time": "2024-09-28T16:57:59.798170Z"
    }
   },
   "outputs": [
    {
     "name": "stdout",
     "output_type": "stream",
     "text": [
      "              precision    recall  f1-score   support\n",
      "\n",
      "           0       0.99      1.00      1.00       966\n",
      "           1       1.00      0.94      0.97       149\n",
      "\n",
      "    accuracy                           0.99      1115\n",
      "   macro avg       1.00      0.97      0.98      1115\n",
      "weighted avg       0.99      0.99      0.99      1115\n",
      "\n"
     ]
    }
   ],
   "source": [
    "print(classification_report(y_test,y_pred))"
   ]
  },
  {
   "cell_type": "code",
   "execution_count": null,
   "id": "c8845362",
   "metadata": {},
   "outputs": [],
   "source": []
  }
 ],
 "metadata": {
  "kernelspec": {
   "display_name": "Python 3",
   "language": "python",
   "name": "python3"
  },
  "language_info": {
   "codemirror_mode": {
    "name": "ipython",
    "version": 3
   },
   "file_extension": ".py",
   "mimetype": "text/x-python",
   "name": "python",
   "nbconvert_exporter": "python",
   "pygments_lexer": "ipython3",
   "version": "3.11.5"
  }
 },
 "nbformat": 4,
 "nbformat_minor": 5
}
