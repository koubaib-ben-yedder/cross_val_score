{
 "cells": [
  {
   "cell_type": "code",
   "id": "initial_id",
   "metadata": {
    "collapsed": true,
    "ExecuteTime": {
     "end_time": "2024-10-07T15:02:28.756350Z",
     "start_time": "2024-10-07T15:02:28.744187Z"
    }
   },
   "source": [
    "from sklearn.model_selection import KFold,cross_val_score,train_test_split,StratifiedKFold\n",
    "from sklearn.svm import SVC\n",
    "from  sklearn.linear_model import LogisticRegression\n",
    "from sklearn.ensemble import RandomForestClassifier\n",
    "from sklearn.datasets import load_digits"
   ],
   "outputs": [],
   "execution_count": 77
  },
  {
   "metadata": {
    "ExecuteTime": {
     "end_time": "2024-10-07T15:02:28.853203Z",
     "start_time": "2024-10-07T15:02:28.819647Z"
    }
   },
   "cell_type": "code",
   "source": "digits = load_digits() ",
   "id": "734c68e4c46f16b6",
   "outputs": [],
   "execution_count": 78
  },
  {
   "metadata": {
    "ExecuteTime": {
     "end_time": "2024-10-07T15:02:29.012002Z",
     "start_time": "2024-10-07T15:02:28.996636Z"
    }
   },
   "cell_type": "code",
   "source": "x_train, x_test, y_train, y_test = train_test_split(digits.data,digits.target,random_state=42,test_size=0.2)",
   "id": "6c5bc9bccf0f9d6f",
   "outputs": [],
   "execution_count": 79
  },
  {
   "metadata": {
    "ExecuteTime": {
     "end_time": "2024-10-07T15:02:29.517084Z",
     "start_time": "2024-10-07T15:02:29.116880Z"
    }
   },
   "cell_type": "code",
   "source": [
    "lr=LogisticRegression()\n",
    "lr.fit(x_train,y_train)\n",
    "lr.score(x_test,y_test)\n"
   ],
   "id": "9e1a5373355711b6",
   "outputs": [
    {
     "name": "stderr",
     "output_type": "stream",
     "text": [
      "C:\\Users\\21625\\AppData\\Local\\anaconda3\\Lib\\site-packages\\sklearn\\linear_model\\_logistic.py:460: ConvergenceWarning: lbfgs failed to converge (status=1):\n",
      "STOP: TOTAL NO. of ITERATIONS REACHED LIMIT.\n",
      "\n",
      "Increase the number of iterations (max_iter) or scale the data as shown in:\n",
      "    https://scikit-learn.org/stable/modules/preprocessing.html\n",
      "Please also refer to the documentation for alternative solver options:\n",
      "    https://scikit-learn.org/stable/modules/linear_model.html#logistic-regression\n",
      "  n_iter_i = _check_optimize_result(\n"
     ]
    },
    {
     "data": {
      "text/plain": [
       "0.9694444444444444"
      ]
     },
     "execution_count": 80,
     "metadata": {},
     "output_type": "execute_result"
    }
   ],
   "execution_count": 80
  },
  {
   "metadata": {
    "ExecuteTime": {
     "end_time": "2024-10-07T15:02:29.663388Z",
     "start_time": "2024-10-07T15:02:29.519095Z"
    }
   },
   "cell_type": "code",
   "source": [
    "svc=SVC()\n",
    "svc.fit(x_train,y_train)\n",
    "svc.score(x_test,y_test)"
   ],
   "id": "bb196af503721fe0",
   "outputs": [
    {
     "data": {
      "text/plain": [
       "0.9861111111111112"
      ]
     },
     "execution_count": 81,
     "metadata": {},
     "output_type": "execute_result"
    }
   ],
   "execution_count": 81
  },
  {
   "metadata": {
    "ExecuteTime": {
     "end_time": "2024-10-07T15:02:30.547831Z",
     "start_time": "2024-10-07T15:02:29.672928Z"
    }
   },
   "cell_type": "code",
   "source": [
    "rf=RandomForestClassifier()\n",
    "rf.fit(x_train,y_train)\n",
    "rf.score(x_test,y_test)"
   ],
   "id": "67c7a0640c2e148f",
   "outputs": [
    {
     "data": {
      "text/plain": [
       "0.9777777777777777"
      ]
     },
     "execution_count": 82,
     "metadata": {},
     "output_type": "execute_result"
    }
   ],
   "execution_count": 82
  },
  {
   "metadata": {
    "ExecuteTime": {
     "end_time": "2024-10-07T15:02:30.557382Z",
     "start_time": "2024-10-07T15:02:30.552381Z"
    }
   },
   "cell_type": "code",
   "source": [
    "kf=KFold(n_splits=3)\n",
    "kf"
   ],
   "id": "2886a3a773acdbf7",
   "outputs": [
    {
     "data": {
      "text/plain": [
       "KFold(n_splits=3, random_state=None, shuffle=False)"
      ]
     },
     "execution_count": 83,
     "metadata": {},
     "output_type": "execute_result"
    }
   ],
   "execution_count": 83
  },
  {
   "metadata": {
    "ExecuteTime": {
     "end_time": "2024-10-07T15:02:30.587581Z",
     "start_time": "2024-10-07T15:02:30.558366Z"
    }
   },
   "cell_type": "code",
   "source": [
    "for index_train,index_test in kf.split([1,2,3,4,5,6,7,8,9]):\n",
    "    print(index_train,index_test)"
   ],
   "id": "5f6a4c67087e16e2",
   "outputs": [
    {
     "name": "stdout",
     "output_type": "stream",
     "text": [
      "[3 4 5 6 7 8] [0 1 2]\n",
      "[0 1 2 6 7 8] [3 4 5]\n",
      "[0 1 2 3 4 5] [6 7 8]\n"
     ]
    }
   ],
   "execution_count": 84
  },
  {
   "metadata": {
    "ExecuteTime": {
     "end_time": "2024-10-07T15:02:30.601134Z",
     "start_time": "2024-10-07T15:02:30.594181Z"
    }
   },
   "cell_type": "code",
   "source": [
    "def get_score(model,x_train,x_test,y_train,y_test):\n",
    "    model.fit(x_train,y_train)\n",
    "    return model.score(x_test,y_test)"
   ],
   "id": "f51026d28539babd",
   "outputs": [],
   "execution_count": 85
  },
  {
   "metadata": {
    "ExecuteTime": {
     "end_time": "2024-10-07T15:02:30.616771Z",
     "start_time": "2024-10-07T15:02:30.602140Z"
    }
   },
   "cell_type": "code",
   "source": "folds=StratifiedKFold(n_splits=3)",
   "id": "d6028e7afb70595e",
   "outputs": [],
   "execution_count": 86
  },
  {
   "metadata": {
    "ExecuteTime": {
     "end_time": "2024-10-07T15:02:32.006348Z",
     "start_time": "2024-10-07T15:02:30.625375Z"
    }
   },
   "cell_type": "code",
   "source": [
    "scores_l=[]\n",
    "scores_svm=[]\n",
    "scores_rf =[]\n",
    "for train_index,test_index in folds.split(x_train,y_train):\n",
    "        x_train, x_test, y_train, y_test = digits.data[train_index], digits.data[test_index], digits. target [train_index], digits.target[test_index]\n",
    "        scores_l. append (get_score(LogisticRegression(), x_train, x_test, y_train, y_test))\n",
    "        scores_svm.append(get_score(SVC(), x_train, x_test, y_train, y_test))\n",
    "        scores_rf. append(get_score(RandomForestClassifier(n_estimators=40), x_train, x_test, y_train, y_test))"
   ],
   "id": "24a769fc4afdadd7",
   "outputs": [
    {
     "name": "stderr",
     "output_type": "stream",
     "text": [
      "C:\\Users\\21625\\AppData\\Local\\anaconda3\\Lib\\site-packages\\sklearn\\linear_model\\_logistic.py:460: ConvergenceWarning: lbfgs failed to converge (status=1):\n",
      "STOP: TOTAL NO. of ITERATIONS REACHED LIMIT.\n",
      "\n",
      "Increase the number of iterations (max_iter) or scale the data as shown in:\n",
      "    https://scikit-learn.org/stable/modules/preprocessing.html\n",
      "Please also refer to the documentation for alternative solver options:\n",
      "    https://scikit-learn.org/stable/modules/linear_model.html#logistic-regression\n",
      "  n_iter_i = _check_optimize_result(\n",
      "C:\\Users\\21625\\AppData\\Local\\anaconda3\\Lib\\site-packages\\sklearn\\linear_model\\_logistic.py:460: ConvergenceWarning: lbfgs failed to converge (status=1):\n",
      "STOP: TOTAL NO. of ITERATIONS REACHED LIMIT.\n",
      "\n",
      "Increase the number of iterations (max_iter) or scale the data as shown in:\n",
      "    https://scikit-learn.org/stable/modules/preprocessing.html\n",
      "Please also refer to the documentation for alternative solver options:\n",
      "    https://scikit-learn.org/stable/modules/linear_model.html#logistic-regression\n",
      "  n_iter_i = _check_optimize_result(\n",
      "C:\\Users\\21625\\AppData\\Local\\anaconda3\\Lib\\site-packages\\sklearn\\linear_model\\_logistic.py:460: ConvergenceWarning: lbfgs failed to converge (status=1):\n",
      "STOP: TOTAL NO. of ITERATIONS REACHED LIMIT.\n",
      "\n",
      "Increase the number of iterations (max_iter) or scale the data as shown in:\n",
      "    https://scikit-learn.org/stable/modules/preprocessing.html\n",
      "Please also refer to the documentation for alternative solver options:\n",
      "    https://scikit-learn.org/stable/modules/linear_model.html#logistic-regression\n",
      "  n_iter_i = _check_optimize_result(\n"
     ]
    }
   ],
   "execution_count": 87
  },
  {
   "metadata": {
    "ExecuteTime": {
     "end_time": "2024-10-07T15:02:32.028637Z",
     "start_time": "2024-10-07T15:02:32.008357Z"
    }
   },
   "cell_type": "code",
   "source": "scores_l",
   "id": "40a78bb17a0fb014",
   "outputs": [
    {
     "data": {
      "text/plain": [
       "[0.9331941544885177, 0.918580375782881, 0.9519832985386222]"
      ]
     },
     "execution_count": 88,
     "metadata": {},
     "output_type": "execute_result"
    }
   ],
   "execution_count": 88
  },
  {
   "metadata": {
    "ExecuteTime": {
     "end_time": "2024-10-07T15:02:32.047695Z",
     "start_time": "2024-10-07T15:02:32.038966Z"
    }
   },
   "cell_type": "code",
   "source": "scores_svm",
   "id": "c9dd3bbd9902fdf3",
   "outputs": [
    {
     "data": {
      "text/plain": [
       "[0.9478079331941545, 0.9498956158663883, 0.9832985386221295]"
      ]
     },
     "execution_count": 89,
     "metadata": {},
     "output_type": "execute_result"
    }
   ],
   "execution_count": 89
  },
  {
   "metadata": {
    "ExecuteTime": {
     "end_time": "2024-10-07T15:02:32.064834Z",
     "start_time": "2024-10-07T15:02:32.049214Z"
    }
   },
   "cell_type": "code",
   "source": "scores_rf ",
   "id": "16719c2379c0164f",
   "outputs": [
    {
     "data": {
      "text/plain": [
       "[0.9081419624217119, 0.8830897703549061, 0.9436325678496869]"
      ]
     },
     "execution_count": 90,
     "metadata": {},
     "output_type": "execute_result"
    }
   ],
   "execution_count": 90
  },
  {
   "metadata": {
    "ExecuteTime": {
     "end_time": "2024-10-07T15:02:33.049868Z",
     "start_time": "2024-10-07T15:02:32.072409Z"
    }
   },
   "cell_type": "code",
   "source": "cross_val_score(LogisticRegression(),digits.data,digits.target)",
   "id": "9cf2298bca4cd40c",
   "outputs": [
    {
     "name": "stderr",
     "output_type": "stream",
     "text": [
      "C:\\Users\\21625\\AppData\\Local\\anaconda3\\Lib\\site-packages\\sklearn\\linear_model\\_logistic.py:460: ConvergenceWarning: lbfgs failed to converge (status=1):\n",
      "STOP: TOTAL NO. of ITERATIONS REACHED LIMIT.\n",
      "\n",
      "Increase the number of iterations (max_iter) or scale the data as shown in:\n",
      "    https://scikit-learn.org/stable/modules/preprocessing.html\n",
      "Please also refer to the documentation for alternative solver options:\n",
      "    https://scikit-learn.org/stable/modules/linear_model.html#logistic-regression\n",
      "  n_iter_i = _check_optimize_result(\n",
      "C:\\Users\\21625\\AppData\\Local\\anaconda3\\Lib\\site-packages\\sklearn\\linear_model\\_logistic.py:460: ConvergenceWarning: lbfgs failed to converge (status=1):\n",
      "STOP: TOTAL NO. of ITERATIONS REACHED LIMIT.\n",
      "\n",
      "Increase the number of iterations (max_iter) or scale the data as shown in:\n",
      "    https://scikit-learn.org/stable/modules/preprocessing.html\n",
      "Please also refer to the documentation for alternative solver options:\n",
      "    https://scikit-learn.org/stable/modules/linear_model.html#logistic-regression\n",
      "  n_iter_i = _check_optimize_result(\n",
      "C:\\Users\\21625\\AppData\\Local\\anaconda3\\Lib\\site-packages\\sklearn\\linear_model\\_logistic.py:460: ConvergenceWarning: lbfgs failed to converge (status=1):\n",
      "STOP: TOTAL NO. of ITERATIONS REACHED LIMIT.\n",
      "\n",
      "Increase the number of iterations (max_iter) or scale the data as shown in:\n",
      "    https://scikit-learn.org/stable/modules/preprocessing.html\n",
      "Please also refer to the documentation for alternative solver options:\n",
      "    https://scikit-learn.org/stable/modules/linear_model.html#logistic-regression\n",
      "  n_iter_i = _check_optimize_result(\n",
      "C:\\Users\\21625\\AppData\\Local\\anaconda3\\Lib\\site-packages\\sklearn\\linear_model\\_logistic.py:460: ConvergenceWarning: lbfgs failed to converge (status=1):\n",
      "STOP: TOTAL NO. of ITERATIONS REACHED LIMIT.\n",
      "\n",
      "Increase the number of iterations (max_iter) or scale the data as shown in:\n",
      "    https://scikit-learn.org/stable/modules/preprocessing.html\n",
      "Please also refer to the documentation for alternative solver options:\n",
      "    https://scikit-learn.org/stable/modules/linear_model.html#logistic-regression\n",
      "  n_iter_i = _check_optimize_result(\n",
      "C:\\Users\\21625\\AppData\\Local\\anaconda3\\Lib\\site-packages\\sklearn\\linear_model\\_logistic.py:460: ConvergenceWarning: lbfgs failed to converge (status=1):\n",
      "STOP: TOTAL NO. of ITERATIONS REACHED LIMIT.\n",
      "\n",
      "Increase the number of iterations (max_iter) or scale the data as shown in:\n",
      "    https://scikit-learn.org/stable/modules/preprocessing.html\n",
      "Please also refer to the documentation for alternative solver options:\n",
      "    https://scikit-learn.org/stable/modules/linear_model.html#logistic-regression\n",
      "  n_iter_i = _check_optimize_result(\n"
     ]
    },
    {
     "data": {
      "text/plain": [
       "array([0.92222222, 0.86944444, 0.94150418, 0.93871866, 0.89693593])"
      ]
     },
     "execution_count": 91,
     "metadata": {},
     "output_type": "execute_result"
    }
   ],
   "execution_count": 91
  },
  {
   "metadata": {
    "ExecuteTime": {
     "end_time": "2024-10-07T15:02:33.531384Z",
     "start_time": "2024-10-07T15:02:33.057830Z"
    }
   },
   "cell_type": "code",
   "source": "cross_val_score(SVC(),digits.data,digits.target)",
   "id": "ceb763becbf45b34",
   "outputs": [
    {
     "data": {
      "text/plain": [
       "array([0.96111111, 0.94444444, 0.98328691, 0.98885794, 0.93871866])"
      ]
     },
     "execution_count": 92,
     "metadata": {},
     "output_type": "execute_result"
    }
   ],
   "execution_count": 92
  },
  {
   "metadata": {
    "ExecuteTime": {
     "end_time": "2024-10-07T15:02:35.018364Z",
     "start_time": "2024-10-07T15:02:33.537421Z"
    }
   },
   "cell_type": "code",
   "source": "cross_val_score(RandomForestClassifier(n_estimators=40),digits.data,digits.target)",
   "id": "5db3a7c12e0b1854",
   "outputs": [
    {
     "data": {
      "text/plain": [
       "array([0.925     , 0.88611111, 0.94986072, 0.9637883 , 0.92200557])"
      ]
     },
     "execution_count": 93,
     "metadata": {},
     "output_type": "execute_result"
    }
   ],
   "execution_count": 93
  },
  {
   "metadata": {
    "ExecuteTime": {
     "end_time": "2024-10-07T15:22:15.631535Z",
     "start_time": "2024-10-07T15:22:14.735814Z"
    }
   },
   "cell_type": "code",
   "source": "cross_val_score(RandomForestClassifier(n_estimators=50),digits.data,digits.target) ",
   "id": "7dd1c381742ce9ec",
   "outputs": [
    {
     "data": {
      "text/plain": [
       "array([0.92777778, 0.89166667, 0.95264624, 0.97214485, 0.92479109])"
      ]
     },
     "execution_count": 95,
     "metadata": {},
     "output_type": "execute_result"
    }
   ],
   "execution_count": 95
  },
  {
   "metadata": {
    "ExecuteTime": {
     "end_time": "2024-10-07T15:22:39.660504Z",
     "start_time": "2024-10-07T15:22:38.578983Z"
    }
   },
   "cell_type": "code",
   "source": "cross_val_score(RandomForestClassifier(n_estimators=60),digits.data,digits.target)",
   "id": "8daeee368ae7647",
   "outputs": [
    {
     "data": {
      "text/plain": [
       "array([0.93055556, 0.88333333, 0.95543175, 0.97214485, 0.93314763])"
      ]
     },
     "execution_count": 96,
     "metadata": {},
     "output_type": "execute_result"
    }
   ],
   "execution_count": 96
  },
  {
   "metadata": {},
   "cell_type": "code",
   "outputs": [],
   "execution_count": null,
   "source": "",
   "id": "a6dd60e0f93e9a58"
  }
 ],
 "metadata": {
  "kernelspec": {
   "display_name": "Python 3",
   "language": "python",
   "name": "python3"
  },
  "language_info": {
   "codemirror_mode": {
    "name": "ipython",
    "version": 2
   },
   "file_extension": ".py",
   "mimetype": "text/x-python",
   "name": "python",
   "nbconvert_exporter": "python",
   "pygments_lexer": "ipython2",
   "version": "2.7.6"
  }
 },
 "nbformat": 4,
 "nbformat_minor": 5
}
