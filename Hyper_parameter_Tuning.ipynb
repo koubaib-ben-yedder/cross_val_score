{
 "cells": [
  {
   "cell_type": "code",
   "execution_count": null,
   "id": "initial_id",
   "metadata": {
    "ExecuteTime": {
     "end_time": "2024-09-28T14:13:53.009908Z",
     "start_time": "2024-09-28T14:13:53.006081Z"
    }
   },
   "outputs": [],
   "source": [
    "from sklearn.model_selection import  RandomizedSearchCV, GridSearchCV,train_test_split\n",
    "from sklearn import datasets\n",
    "import pandas as pd\n",
    "from sklearn.linear_model import LogisticRegression\n",
    "from sklearn.naive_bayes import MultinomialNB\n",
    "from sklearn.svm import SVC\n",
    "from sklearn.tree import DecisionTreeClassifier\n",
    "from sklearn.ensemble import RandomForestClassifier\n",
    "from sklearn.neighbors import KNeighborsClassifier\n",
    "from sklearn.linear_model import SGDClassifier"
   ]
  },
  {
   "cell_type": "code",
   "execution_count": null,
   "id": "83f265db1b7ddce7",
   "metadata": {
    "ExecuteTime": {
     "end_time": "2024-09-28T14:13:53.040926Z",
     "start_time": "2024-09-28T14:13:53.036524Z"
    }
   },
   "outputs": [],
   "source": [
    "iris = datasets.load_iris()"
   ]
  },
  {
   "cell_type": "code",
   "execution_count": null,
   "id": "769ce9f45c64fb66",
   "metadata": {
    "ExecuteTime": {
     "end_time": "2024-09-28T14:13:53.045502Z",
     "start_time": "2024-09-28T14:13:53.041934Z"
    }
   },
   "outputs": [],
   "source": [
    "df=pd.DataFrame(iris.data,columns=iris.feature_names)\n",
    "df['target'] = iris.target"
   ]
  },
  {
   "cell_type": "code",
   "execution_count": null,
   "id": "cf571d3da85ecd68",
   "metadata": {
    "ExecuteTime": {
     "end_time": "2024-09-28T14:13:53.056180Z",
     "start_time": "2024-09-28T14:13:53.046516Z"
    }
   },
   "outputs": [],
   "source": [
    "df.head()"
   ]
  },
  {
   "cell_type": "code",
   "execution_count": null,
   "id": "bc837a293c20995b",
   "metadata": {
    "ExecuteTime": {
     "end_time": "2024-09-28T14:13:53.063701Z",
     "start_time": "2024-09-28T14:13:53.057187Z"
    }
   },
   "outputs": [],
   "source": [
    "model_params_grid = {\n",
    "    \"MultinomialNB\": {\n",
    "        \"classifier\": MultinomialNB(),\n",
    "        \"param_grid\": {\n",
    "            \"alpha\": [0.001, 0.01, 0.1, 1.0],\n",
    "        }\n",
    "    },\n",
    "    \"LogisticRegression\": {\n",
    "        \"classifier\": LogisticRegression(multi_class=\"multinomial\", max_iter=1000),\n",
    "        \"param_grid\": {\n",
    "            \"tol\": [0.001, 0.01, 0.1, 1.0],\n",
    "            \"C\": [0.1, 1.0, 10.0],\n",
    "            \"solver\": [\"lbfgs\"],\n",
    "            \"penalty\": [\"l2\"], \n",
    "        }\n",
    "    },\n",
    "    \"DecisionTreeClassifier\": {\n",
    "        \"classifier\": DecisionTreeClassifier(),\n",
    "        \"param_grid\": {\n",
    "            \"max_depth\": [1, 2, 3, 4],\n",
    "        }\n",
    "    },\n",
    "    \"RandomForestClassifier\": {\n",
    "        \"classifier\": RandomForestClassifier(),\n",
    "        \"param_grid\": {\n",
    "            \"n_estimators\": [100, 200],\n",
    "            \"max_depth\": [1, 2, 3],\n",
    "        }\n",
    "    },\n",
    "    \"KNeighborsClassifier\": {\n",
    "        \"classifier\": KNeighborsClassifier(),\n",
    "        \"param_grid\": {\n",
    "            \"n_neighbors\": [1, 2, 3],\n",
    "            \"weights\": [\"uniform\", \"distance\"],\n",
    "        }\n",
    "    },\n",
    "    \"SGDClassifier\": {\n",
    "        \"classifier\": SGDClassifier(random_state=42, shuffle=True),\n",
    "        \"param_grid\": {\n",
    "            \"tol\": [0.001, 0.01, 0.1, 1.0],\n",
    "            \"alpha\": [0.0001, 0.001, 0.01],\n",
    "            \"penalty\": [\"l1\", \"l2\"],\n",
    "        }\n",
    "    },\n",
    "    \"SVC\": {\n",
    "        \"classifier\": SVC(),\n",
    "        \"param_grid\": {\n",
    "            \"tol\": [0.001, 0.01, 0.1, 1.0],\n",
    "            \"C\": [0.1, 1.0, 10.0],\n",
    "        }\n",
    "    }\n",
    "}\n"
   ]
  },
  {
   "cell_type": "code",
   "execution_count": null,
   "id": "cefead05658582e6",
   "metadata": {
    "ExecuteTime": {
     "end_time": "2024-09-28T14:13:53.069714Z",
     "start_time": "2024-09-28T14:13:53.064712Z"
    }
   },
   "outputs": [],
   "source": [
    "x=df[['sepal length (cm)', 'sepal width (cm)', 'petal length (cm)',\n",
    "       'petal width (cm)']]\n",
    "y=df['target']"
   ]
  },
  {
   "cell_type": "code",
   "execution_count": null,
   "id": "8a7bd12ba5974eee",
   "metadata": {
    "ExecuteTime": {
     "end_time": "2024-09-28T14:13:53.087241Z",
     "start_time": "2024-09-28T14:13:53.083140Z"
    }
   },
   "outputs": [],
   "source": [
    "x_train,x_test,y_train,y_test=train_test_split(x,y,test_size=0.2,random_state=42)"
   ]
  },
  {
   "cell_type": "code",
   "execution_count": null,
   "id": "a79a82091115d856",
   "metadata": {
    "ExecuteTime": {
     "end_time": "2024-09-28T14:13:58.074249Z",
     "start_time": "2024-09-28T14:13:53.109923Z"
    }
   },
   "outputs": [],
   "source": [
    "reseult=[]\n",
    "for item,items in model_params_grid.items():\n",
    "    gs=GridSearchCV(items[\"classifier\"],param_grid=items[\"param_grid\"],cv=5,scoring=\"accuracy\")\n",
    "    gs.fit(x_train,y_train)\n",
    "    accurcy=gs.score(x_test,y_test)\n",
    "    reseult.append({\n",
    "        \"model\":item,\n",
    "        \"best score\":gs.best_score_,\n",
    "        \"best params\":gs.best_params_,\n",
    "    })\n",
    "    "
   ]
  },
  {
   "cell_type": "code",
   "execution_count": null,
   "id": "d96e3a6b1d4436c5",
   "metadata": {
    "ExecuteTime": {
     "end_time": "2024-09-28T14:13:58.085025Z",
     "start_time": "2024-09-28T14:13:58.075270Z"
    }
   },
   "outputs": [],
   "source": [
    "pd.DataFrame(reseult,columns=[\"model\",\"best score\",\"best params\"])"
   ]
  },
  {
   "cell_type": "markdown",
   "id": "80dd8ed4b20f588d",
   "metadata": {},
   "source": [
    "<h5> intercept </h5>\n",
    "<h6>    the best model in logistic regression  with 0.975 accurcy score    </h6>"
   ]
  },
  {
   "cell_type": "code",
   "execution_count": null,
   "id": "fd52f66aa65cabfc",
   "metadata": {
    "ExecuteTime": {
     "end_time": "2024-09-28T14:13:59.847766Z",
     "start_time": "2024-09-28T14:13:58.085538Z"
    }
   },
   "outputs": [],
   "source": [
    "reseult=[]\n",
    "for item , items  in model_params_grid.items() :\n",
    "    rg=RandomizedSearchCV(items[\"classifier\"],param_distributions=items[\"param_grid\"],cv=5,scoring=\"accuracy\",n_iter=2,random_state=42)\n",
    "    rg.fit(x_train,y_train)\n",
    "    accurcy=rg.score(x_test,y_test)\n",
    "    reseult.append({\n",
    "        \"model\":item,\n",
    "        \"best score\":rg.best_score_,\n",
    "        \"best params\":rg.best_params_,\n",
    "    })\n"
   ]
  },
  {
   "cell_type": "code",
   "execution_count": null,
   "id": "a265a3a51dac0243",
   "metadata": {
    "ExecuteTime": {
     "end_time": "2024-09-28T14:13:59.856221Z",
     "start_time": "2024-09-28T14:13:59.848772Z"
    }
   },
   "outputs": [],
   "source": [
    "pd.DataFrame(reseult,columns=[\"model\",\"best score\",\"best params\"])"
   ]
  },
  {
   "cell_type": "markdown",
   "id": "809f416f74f79baf",
   "metadata": {},
   "source": [
    "<h5>  interception  </h5>\n",
    "<h6>  i have two best model KNeighborsClassifier and Svc with 0.95 accurcy score </h6>"
   ]
  },
  {
   "cell_type": "code",
   "execution_count": null,
   "id": "7d35dc40b9b24d58",
   "metadata": {
    "ExecuteTime": {
     "end_time": "2024-09-28T14:13:59.859717Z",
     "start_time": "2024-09-28T14:13:59.857230Z"
    }
   },
   "outputs": [],
   "source": []
  }
 ],
 "metadata": {
  "kernelspec": {
   "display_name": "Python 3 (ipykernel)",
   "language": "python",
   "name": "python3"
  },
  "language_info": {
   "codemirror_mode": {
    "name": "ipython",
    "version": 3
   },
   "file_extension": ".py",
   "mimetype": "text/x-python",
   "name": "python",
   "nbconvert_exporter": "python",
   "pygments_lexer": "ipython3",
   "version": "3.11.5"
  }
 },
 "nbformat": 4,
 "nbformat_minor": 5
}
