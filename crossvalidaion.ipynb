{
 "cells": [
  {
   "cell_type": "code",
   "id": "initial_id",
   "metadata": {
    "collapsed": true,
    "ExecuteTime": {
     "end_time": "2024-10-07T15:42:26.313396Z",
     "start_time": "2024-10-07T15:42:24.896122Z"
    }
   },
   "source": [
    "from sklearn.model_selection import KFold,cross_val_score,train_test_split,StratifiedKFold\n",
    "from sklearn.svm import SVC\n",
    "from  sklearn.linear_model import LogisticRegression\n",
    "from sklearn.ensemble import RandomForestClassifier\n",
    "from sklearn.datasets import load_digits"
   ],
   "outputs": [],
   "execution_count": 2
  },
  {
   "metadata": {
    "ExecuteTime": {
     "end_time": "2024-10-07T15:42:26.334587Z",
     "start_time": "2024-10-07T15:42:26.314410Z"
    }
   },
   "cell_type": "code",
   "source": "digits = load_digits() ",
   "id": "734c68e4c46f16b6",
   "outputs": [],
   "execution_count": 3
  },
  {
   "metadata": {
    "ExecuteTime": {
     "end_time": "2024-10-07T15:42:26.340079Z",
     "start_time": "2024-10-07T15:42:26.335593Z"
    }
   },
   "cell_type": "code",
   "source": "x_train, x_test, y_train, y_test = train_test_split(digits.data,digits.target,random_state=42,test_size=0.2)",
   "id": "6c5bc9bccf0f9d6f",
   "outputs": [],
   "execution_count": 4
  },
  {
   "metadata": {
    "ExecuteTime": {
     "end_time": "2024-10-07T15:42:26.470897Z",
     "start_time": "2024-10-07T15:42:26.346090Z"
    }
   },
   "cell_type": "code",
   "source": [
    "lr=LogisticRegression()\n",
    "lr.fit(x_train,y_train)\n",
    "lr.score(x_test,y_test)\n"
   ],
   "id": "9e1a5373355711b6",
   "outputs": [
    {
     "name": "stderr",
     "output_type": "stream",
     "text": [
      "C:\\Users\\21625\\AppData\\Local\\anaconda3\\Lib\\site-packages\\sklearn\\linear_model\\_logistic.py:460: ConvergenceWarning: lbfgs failed to converge (status=1):\n",
      "STOP: TOTAL NO. of ITERATIONS REACHED LIMIT.\n",
      "\n",
      "Increase the number of iterations (max_iter) or scale the data as shown in:\n",
      "    https://scikit-learn.org/stable/modules/preprocessing.html\n",
      "Please also refer to the documentation for alternative solver options:\n",
      "    https://scikit-learn.org/stable/modules/linear_model.html#logistic-regression\n",
      "  n_iter_i = _check_optimize_result(\n"
     ]
    },
    {
     "data": {
      "text/plain": [
       "0.9694444444444444"
      ]
     },
     "execution_count": 5,
     "metadata": {},
     "output_type": "execute_result"
    }
   ],
   "execution_count": 5
  },
  {
   "metadata": {
    "ExecuteTime": {
     "end_time": "2024-10-07T15:42:26.866998Z",
     "start_time": "2024-10-07T15:42:26.471906Z"
    }
   },
   "cell_type": "code",
   "source": [
    "svc=SVC()\n",
    "svc.fit(x_train,y_train)\n",
    "svc.score(x_test,y_test)"
   ],
   "id": "bb196af503721fe0",
   "outputs": [
    {
     "data": {
      "text/plain": [
       "0.9861111111111112"
      ]
     },
     "execution_count": 6,
     "metadata": {},
     "output_type": "execute_result"
    }
   ],
   "execution_count": 6
  },
  {
   "metadata": {
    "ExecuteTime": {
     "end_time": "2024-10-07T15:42:27.249757Z",
     "start_time": "2024-10-07T15:42:26.868005Z"
    }
   },
   "cell_type": "code",
   "source": [
    "rf=RandomForestClassifier()\n",
    "rf.fit(x_train,y_train)\n",
    "rf.score(x_test,y_test)"
   ],
   "id": "67c7a0640c2e148f",
   "outputs": [
    {
     "data": {
      "text/plain": [
       "0.9777777777777777"
      ]
     },
     "execution_count": 7,
     "metadata": {},
     "output_type": "execute_result"
    }
   ],
   "execution_count": 7
  },
  {
   "metadata": {
    "ExecuteTime": {
     "end_time": "2024-10-07T15:42:27.254625Z",
     "start_time": "2024-10-07T15:42:27.250764Z"
    }
   },
   "cell_type": "code",
   "source": [
    "kf=KFold(n_splits=3)\n",
    "kf"
   ],
   "id": "2886a3a773acdbf7",
   "outputs": [
    {
     "data": {
      "text/plain": [
       "KFold(n_splits=3, random_state=None, shuffle=False)"
      ]
     },
     "execution_count": 8,
     "metadata": {},
     "output_type": "execute_result"
    }
   ],
   "execution_count": 8
  },
  {
   "metadata": {
    "ExecuteTime": {
     "end_time": "2024-10-07T15:42:27.262176Z",
     "start_time": "2024-10-07T15:42:27.255632Z"
    }
   },
   "cell_type": "code",
   "source": [
    "for index_train,index_test in kf.split([1,2,3,4,5,6,7,8,9]):\n",
    "    print(index_train,index_test)"
   ],
   "id": "5f6a4c67087e16e2",
   "outputs": [
    {
     "name": "stdout",
     "output_type": "stream",
     "text": [
      "[3 4 5 6 7 8] [0 1 2]\n",
      "[0 1 2 6 7 8] [3 4 5]\n",
      "[0 1 2 3 4 5] [6 7 8]\n"
     ]
    }
   ],
   "execution_count": 9
  },
  {
   "metadata": {
    "ExecuteTime": {
     "end_time": "2024-10-07T15:42:27.267700Z",
     "start_time": "2024-10-07T15:42:27.263183Z"
    }
   },
   "cell_type": "code",
   "source": [
    "def get_score(model,x_train,x_test,y_train,y_test):\n",
    "    model.fit(x_train,y_train)\n",
    "    return model.score(x_test,y_test)"
   ],
   "id": "f51026d28539babd",
   "outputs": [],
   "execution_count": 10
  },
  {
   "metadata": {
    "ExecuteTime": {
     "end_time": "2024-10-07T15:42:27.273770Z",
     "start_time": "2024-10-07T15:42:27.269710Z"
    }
   },
   "cell_type": "code",
   "source": "folds=StratifiedKFold(n_splits=3)",
   "id": "d6028e7afb70595e",
   "outputs": [],
   "execution_count": 11
  },
  {
   "metadata": {
    "ExecuteTime": {
     "end_time": "2024-10-07T15:42:27.894233Z",
     "start_time": "2024-10-07T15:42:27.274777Z"
    }
   },
   "cell_type": "code",
   "source": [
    "scores_l=[]\n",
    "scores_svm=[]\n",
    "scores_rf =[]\n",
    "for train_index,test_index in folds.split(x_train,y_train):\n",
    "        x_train, x_test, y_train, y_test = digits.data[train_index], digits.data[test_index], digits. target [train_index], digits.target[test_index]\n",
    "        scores_l. append (get_score(LogisticRegression(), x_train, x_test, y_train, y_test))\n",
    "        scores_svm.append(get_score(SVC(), x_train, x_test, y_train, y_test))\n",
    "        scores_rf. append(get_score(RandomForestClassifier(n_estimators=40), x_train, x_test, y_train, y_test))"
   ],
   "id": "24a769fc4afdadd7",
   "outputs": [
    {
     "name": "stderr",
     "output_type": "stream",
     "text": [
      "C:\\Users\\21625\\AppData\\Local\\anaconda3\\Lib\\site-packages\\sklearn\\linear_model\\_logistic.py:460: ConvergenceWarning: lbfgs failed to converge (status=1):\n",
      "STOP: TOTAL NO. of ITERATIONS REACHED LIMIT.\n",
      "\n",
      "Increase the number of iterations (max_iter) or scale the data as shown in:\n",
      "    https://scikit-learn.org/stable/modules/preprocessing.html\n",
      "Please also refer to the documentation for alternative solver options:\n",
      "    https://scikit-learn.org/stable/modules/linear_model.html#logistic-regression\n",
      "  n_iter_i = _check_optimize_result(\n",
      "C:\\Users\\21625\\AppData\\Local\\anaconda3\\Lib\\site-packages\\sklearn\\linear_model\\_logistic.py:460: ConvergenceWarning: lbfgs failed to converge (status=1):\n",
      "STOP: TOTAL NO. of ITERATIONS REACHED LIMIT.\n",
      "\n",
      "Increase the number of iterations (max_iter) or scale the data as shown in:\n",
      "    https://scikit-learn.org/stable/modules/preprocessing.html\n",
      "Please also refer to the documentation for alternative solver options:\n",
      "    https://scikit-learn.org/stable/modules/linear_model.html#logistic-regression\n",
      "  n_iter_i = _check_optimize_result(\n",
      "C:\\Users\\21625\\AppData\\Local\\anaconda3\\Lib\\site-packages\\sklearn\\linear_model\\_logistic.py:460: ConvergenceWarning: lbfgs failed to converge (status=1):\n",
      "STOP: TOTAL NO. of ITERATIONS REACHED LIMIT.\n",
      "\n",
      "Increase the number of iterations (max_iter) or scale the data as shown in:\n",
      "    https://scikit-learn.org/stable/modules/preprocessing.html\n",
      "Please also refer to the documentation for alternative solver options:\n",
      "    https://scikit-learn.org/stable/modules/linear_model.html#logistic-regression\n",
      "  n_iter_i = _check_optimize_result(\n"
     ]
    }
   ],
   "execution_count": 12
  },
  {
   "metadata": {
    "ExecuteTime": {
     "end_time": "2024-10-07T15:42:27.898889Z",
     "start_time": "2024-10-07T15:42:27.894233Z"
    }
   },
   "cell_type": "code",
   "source": "scores_l",
   "id": "40a78bb17a0fb014",
   "outputs": [
    {
     "data": {
      "text/plain": [
       "[0.9331941544885177, 0.918580375782881, 0.9519832985386222]"
      ]
     },
     "execution_count": 13,
     "metadata": {},
     "output_type": "execute_result"
    }
   ],
   "execution_count": 13
  },
  {
   "metadata": {
    "ExecuteTime": {
     "end_time": "2024-10-07T15:42:27.904585Z",
     "start_time": "2024-10-07T15:42:27.899896Z"
    }
   },
   "cell_type": "code",
   "source": "scores_svm",
   "id": "c9dd3bbd9902fdf3",
   "outputs": [
    {
     "data": {
      "text/plain": [
       "[0.9478079331941545, 0.9498956158663883, 0.9832985386221295]"
      ]
     },
     "execution_count": 14,
     "metadata": {},
     "output_type": "execute_result"
    }
   ],
   "execution_count": 14
  },
  {
   "metadata": {
    "ExecuteTime": {
     "end_time": "2024-10-07T15:42:27.911478Z",
     "start_time": "2024-10-07T15:42:27.905595Z"
    }
   },
   "cell_type": "code",
   "source": "scores_rf ",
   "id": "16719c2379c0164f",
   "outputs": [
    {
     "data": {
      "text/plain": [
       "[0.9144050104384134, 0.8956158663883089, 0.964509394572025]"
      ]
     },
     "execution_count": 15,
     "metadata": {},
     "output_type": "execute_result"
    }
   ],
   "execution_count": 15
  },
  {
   "metadata": {
    "ExecuteTime": {
     "end_time": "2024-10-07T15:42:28.161705Z",
     "start_time": "2024-10-07T15:42:27.912487Z"
    }
   },
   "cell_type": "code",
   "source": "cross_val_score(LogisticRegression(),digits.data,digits.target)",
   "id": "9cf2298bca4cd40c",
   "outputs": [
    {
     "name": "stderr",
     "output_type": "stream",
     "text": [
      "C:\\Users\\21625\\AppData\\Local\\anaconda3\\Lib\\site-packages\\sklearn\\linear_model\\_logistic.py:460: ConvergenceWarning: lbfgs failed to converge (status=1):\n",
      "STOP: TOTAL NO. of ITERATIONS REACHED LIMIT.\n",
      "\n",
      "Increase the number of iterations (max_iter) or scale the data as shown in:\n",
      "    https://scikit-learn.org/stable/modules/preprocessing.html\n",
      "Please also refer to the documentation for alternative solver options:\n",
      "    https://scikit-learn.org/stable/modules/linear_model.html#logistic-regression\n",
      "  n_iter_i = _check_optimize_result(\n",
      "C:\\Users\\21625\\AppData\\Local\\anaconda3\\Lib\\site-packages\\sklearn\\linear_model\\_logistic.py:460: ConvergenceWarning: lbfgs failed to converge (status=1):\n",
      "STOP: TOTAL NO. of ITERATIONS REACHED LIMIT.\n",
      "\n",
      "Increase the number of iterations (max_iter) or scale the data as shown in:\n",
      "    https://scikit-learn.org/stable/modules/preprocessing.html\n",
      "Please also refer to the documentation for alternative solver options:\n",
      "    https://scikit-learn.org/stable/modules/linear_model.html#logistic-regression\n",
      "  n_iter_i = _check_optimize_result(\n",
      "C:\\Users\\21625\\AppData\\Local\\anaconda3\\Lib\\site-packages\\sklearn\\linear_model\\_logistic.py:460: ConvergenceWarning: lbfgs failed to converge (status=1):\n",
      "STOP: TOTAL NO. of ITERATIONS REACHED LIMIT.\n",
      "\n",
      "Increase the number of iterations (max_iter) or scale the data as shown in:\n",
      "    https://scikit-learn.org/stable/modules/preprocessing.html\n",
      "Please also refer to the documentation for alternative solver options:\n",
      "    https://scikit-learn.org/stable/modules/linear_model.html#logistic-regression\n",
      "  n_iter_i = _check_optimize_result(\n",
      "C:\\Users\\21625\\AppData\\Local\\anaconda3\\Lib\\site-packages\\sklearn\\linear_model\\_logistic.py:460: ConvergenceWarning: lbfgs failed to converge (status=1):\n",
      "STOP: TOTAL NO. of ITERATIONS REACHED LIMIT.\n",
      "\n",
      "Increase the number of iterations (max_iter) or scale the data as shown in:\n",
      "    https://scikit-learn.org/stable/modules/preprocessing.html\n",
      "Please also refer to the documentation for alternative solver options:\n",
      "    https://scikit-learn.org/stable/modules/linear_model.html#logistic-regression\n",
      "  n_iter_i = _check_optimize_result(\n",
      "C:\\Users\\21625\\AppData\\Local\\anaconda3\\Lib\\site-packages\\sklearn\\linear_model\\_logistic.py:460: ConvergenceWarning: lbfgs failed to converge (status=1):\n",
      "STOP: TOTAL NO. of ITERATIONS REACHED LIMIT.\n",
      "\n",
      "Increase the number of iterations (max_iter) or scale the data as shown in:\n",
      "    https://scikit-learn.org/stable/modules/preprocessing.html\n",
      "Please also refer to the documentation for alternative solver options:\n",
      "    https://scikit-learn.org/stable/modules/linear_model.html#logistic-regression\n",
      "  n_iter_i = _check_optimize_result(\n"
     ]
    },
    {
     "data": {
      "text/plain": [
       "array([0.92222222, 0.86944444, 0.94150418, 0.93871866, 0.89693593])"
      ]
     },
     "execution_count": 16,
     "metadata": {},
     "output_type": "execute_result"
    }
   ],
   "execution_count": 16
  },
  {
   "metadata": {
    "ExecuteTime": {
     "end_time": "2024-10-07T15:42:28.465695Z",
     "start_time": "2024-10-07T15:42:28.162712Z"
    }
   },
   "cell_type": "code",
   "source": "cross_val_score(SVC(),digits.data,digits.target)",
   "id": "ceb763becbf45b34",
   "outputs": [
    {
     "data": {
      "text/plain": [
       "array([0.96111111, 0.94444444, 0.98328691, 0.98885794, 0.93871866])"
      ]
     },
     "execution_count": 17,
     "metadata": {},
     "output_type": "execute_result"
    }
   ],
   "execution_count": 17
  },
  {
   "metadata": {
    "ExecuteTime": {
     "end_time": "2024-10-07T15:42:29.170237Z",
     "start_time": "2024-10-07T15:42:28.466700Z"
    }
   },
   "cell_type": "code",
   "source": "cross_val_score(RandomForestClassifier(n_estimators=40),digits.data,digits.target)",
   "id": "5db3a7c12e0b1854",
   "outputs": [
    {
     "data": {
      "text/plain": [
       "array([0.93888889, 0.90833333, 0.94986072, 0.95264624, 0.93036212])"
      ]
     },
     "execution_count": 18,
     "metadata": {},
     "output_type": "execute_result"
    }
   ],
   "execution_count": 18
  },
  {
   "metadata": {
    "ExecuteTime": {
     "end_time": "2024-10-07T15:42:30.038207Z",
     "start_time": "2024-10-07T15:42:29.171243Z"
    }
   },
   "cell_type": "code",
   "source": "cross_val_score(RandomForestClassifier(n_estimators=50),digits.data,digits.target) ",
   "id": "7dd1c381742ce9ec",
   "outputs": [
    {
     "data": {
      "text/plain": [
       "array([0.93055556, 0.89722222, 0.95821727, 0.95543175, 0.90529248])"
      ]
     },
     "execution_count": 19,
     "metadata": {},
     "output_type": "execute_result"
    }
   ],
   "execution_count": 19
  },
  {
   "metadata": {
    "ExecuteTime": {
     "end_time": "2024-10-07T15:42:31.076559Z",
     "start_time": "2024-10-07T15:42:30.039213Z"
    }
   },
   "cell_type": "code",
   "source": "cross_val_score(RandomForestClassifier(n_estimators=60),digits.data,digits.target)",
   "id": "8daeee368ae7647",
   "outputs": [
    {
     "data": {
      "text/plain": [
       "array([0.925     , 0.92777778, 0.95543175, 0.96657382, 0.92200557])"
      ]
     },
     "execution_count": 20,
     "metadata": {},
     "output_type": "execute_result"
    }
   ],
   "execution_count": 20
  },
  {
   "metadata": {
    "ExecuteTime": {
     "end_time": "2024-10-07T15:42:31.080116Z",
     "start_time": "2024-10-07T15:42:31.077563Z"
    }
   },
   "cell_type": "code",
   "source": "",
   "id": "a6dd60e0f93e9a58",
   "outputs": [],
   "execution_count": 20
  }
 ],
 "metadata": {
  "kernelspec": {
   "display_name": "Python 3",
   "language": "python",
   "name": "python3"
  },
  "language_info": {
   "codemirror_mode": {
    "name": "ipython",
    "version": 2
   },
   "file_extension": ".py",
   "mimetype": "text/x-python",
   "name": "python",
   "nbconvert_exporter": "python",
   "pygments_lexer": "ipython2",
   "version": "2.7.6"
  }
 },
 "nbformat": 4,
 "nbformat_minor": 5
}
